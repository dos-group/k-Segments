{
 "cells": [
  {
   "cell_type": "markdown",
   "id": "586f2df8-eae9-4724-b2f2-f7d9dba0be2e",
   "metadata": {},
   "source": [
    "# Predicting Dynamic Memory Requirements for Scientific Workflow Tasks"
   ]
  },
  {
   "cell_type": "markdown",
   "id": "b129e5ec-9ac8-4cd9-b0c6-2cb3819ab27f",
   "metadata": {},
   "source": [
    "### Setup BASE_DIR\n",
    "- Path to tsb_resource_allocation_data\n",
    "- No / at the end"
   ]
  },
  {
   "cell_type": "code",
   "execution_count": 27,
   "id": "fb755db0-ab45-4245-b39a-fbb7904cc659",
   "metadata": {
    "tags": []
   },
   "outputs": [],
   "source": [
    "BASE_DIR = '/Users/nilsdiedrich/Library/Mobile Documents/com~apple~CloudDocs/TUBerlin/WS22/Master Thesis/data' "
   ]
  },
  {
   "cell_type": "code",
   "execution_count": 28,
   "id": "eddd0511-7e8f-4f7b-beb5-c57cbbc0fe2e",
   "metadata": {
    "tags": []
   },
   "outputs": [],
   "source": [
    "%matplotlib inline\n",
    "import matplotlib.pyplot as plt\n",
    "import seaborn as sns\n",
    "import os\n",
    "import math\n",
    "import pandas as pd\n",
    "from tsb_resource_allocation.witt_task_model import WittTaskModel\n",
    "from tsb_resource_allocation.tovar_task_model import TovarTaskModel\n",
    "from tsb_resource_allocation.simulation import Simulation\n",
    "from tsb_resource_allocation.k_segments_model import KSegmentsModel\n",
    "from tsb_resource_allocation.file_events_model import FileEventsModel\n",
    "from tsb_resource_allocation.default_model import DefaultModel\n",
    "sns.set_theme(style=\"darkgrid\")\n",
    "\n",
    "# Helper methods\n",
    "\n",
    "def get_file_names(directory, number_of_files = -1):\n",
    "    file_names = [name.rsplit('_',1)[0] for name in os.listdir(directory) if not os.path.isdir(f\"{directory}{name}\") and name.endswith(\"_memory.csv\")]\n",
    "    if number_of_files != -1:\n",
    "        return file_names[:number_of_files]\n",
    "    return file_names\n",
    "\n",
    "def run_simulation(directory, training, test, monotonically_increasing = True, k = 4, collection_interval = 2):\n",
    "    \n",
    "    # MODELS\n",
    "    simulations = []\n",
    "    \n",
    "    # KSegments retry: selective\n",
    "    task_model = KSegmentsModel(k = k, monotonically_increasing = monotonically_increasing)\n",
    "    simulation = Simulation(task_model, directory, retry_mode = 'selective', provided_file_names = training)\n",
    "    simulations.append(simulation)\n",
    "    \n",
    "    # KSegments retry: selective - NO UNDERPREDICTION\n",
    "    task_model = KSegmentsModel(k = k, monotonically_increasing = monotonically_increasing, time_mode = -1)\n",
    "    simulation = Simulation(task_model, directory, retry_mode = 'selective', provided_file_names = training)\n",
    "    #simulations.append(simulation)\n",
    "    \n",
    "    # KSegments retry: partial\n",
    "    task_model = KSegmentsModel(k = k, monotonically_increasing = monotonically_increasing)\n",
    "    simulation = Simulation(task_model, directory, retry_mode = 'partial', provided_file_names = training)\n",
    "    simulations.append(simulation)\n",
    "    \n",
    "    # WITT LR MEAN+- TASK MODEL \n",
    "    task_model = WittTaskModel(mode = \"mean+-\")\n",
    "    simulation = Simulation(task_model, directory, retry_mode = 'full', provided_file_names = training)\n",
    "    simulations.append(simulation)\n",
    "\n",
    "    # TOVAR TASK MODEL - full retry\n",
    "    task_model = TovarTaskModel()\n",
    "    simulation = Simulation(task_model, directory, retry_mode = 'full', provided_file_names = training)\n",
    "    simulations.append(simulation)\n",
    "    \n",
    "     # TOVAR TASK MODEL - tovar retry\n",
    "    task_model = TovarTaskModel()\n",
    "    simulation = Simulation(task_model, directory, retry_mode = 'tovar', provided_file_names = training)\n",
    "    simulations.append(simulation)\n",
    "    \n",
    "    # Default Model\n",
    "    task_model = DefaultModel()\n",
    "    simulation = Simulation(task_model, directory, retry_mode = 'full', provided_file_names = training)\n",
    "    simulations.append(simulation)\n",
    "    \n",
    "    waste, retries, runtimes = [0 for _ in range(len(simulations))],[0 for _ in range(len(simulations))],[0 for _ in range(len(simulations))]\n",
    "    for file_name in test:\n",
    "        for i,s in enumerate(simulations):\n",
    "            result = s.execute(file_name, True)\n",
    "            waste[i] += ((result[0]/1000) * collection_interval)\n",
    "            retries[i] += result[1]\n",
    "            runtimes[i] += (result[2] * collection_interval)\n",
    "    \n",
    "    avg_waste = list(map(lambda w: w / len(test), waste))\n",
    "    avg_retries = list(map(lambda r: r / len(test), retries))\n",
    "    avg_runtime = list(map(lambda r: r / len(test), runtimes))\n",
    "    \n",
    "    return avg_waste, avg_retries, avg_runtime"
   ]
  },
  {
   "cell_type": "markdown",
   "id": "aed997b3-5e2f-4ad2-b4d1-5c958e2bf430",
   "metadata": {
    "tags": []
   },
   "source": [
    "# Table Generation"
   ]
  },
  {
   "cell_type": "code",
   "execution_count": 29,
   "id": "14677a0e-6819-41ef-aeed-530c2403aa5b",
   "metadata": {
    "tags": []
   },
   "outputs": [],
   "source": [
    "import random\n",
    "# OUTPUT = ( [Waste: [Witt: 25, Tovar: 25, k-segments:25], [50] , [75]], [Retries], [Runtime])\n",
    "def benchmark_task(task_dir = '/eager/markduplicates', base_directory = BASE_DIR):\n",
    "    directory = f'{base_directory}/{task_dir}'\n",
    "    file_names_orig = []\n",
    "    file_order = get_file_order(task_dir)\n",
    "    if file_order != None:\n",
    "        file_names_orig = file_order\n",
    "    else:\n",
    "        file_names_orig = get_file_names(directory)\n",
    "\n",
    "    percentages = [0.25, 0.5, 0.75]\n",
    "\n",
    "    x = []\n",
    "    y_waste = []\n",
    "    y_retries = []\n",
    "    y_runtime = []\n",
    "\n",
    "    file_names = list(filter(lambda x: len(pd.read_csv(f'{directory}/{x}_memory.csv', skiprows = 3)) >= 8, file_names_orig))\n",
    "    if len(file_names) == 0:\n",
    "        return -1\n",
    "    print(f'Usable Data: {len(file_names)}/{len(file_names_orig)}')\n",
    "    \n",
    "    for i in [ int(len(file_names)*p) for p in percentages ]:\n",
    "        training = file_names[:i]\n",
    "        test = file_names[i:] # file_names[i:] - other mode\n",
    "        print(f\"training: {len(training)}, test: {len(test)}\",end=\"\\r\", flush=True)\n",
    "        avg_waste, avg_retries, avg_runtime = run_simulation(directory, training, test, k = 4)\n",
    "        x.append(i)\n",
    "        y_waste.append(list(map(lambda w: round(w, 2),avg_waste)))\n",
    "        y_retries.append(avg_retries)\n",
    "        y_runtime.append(avg_runtime)\n",
    "\n",
    "    return (y_waste, y_retries, y_runtime)"
   ]
  },
  {
   "cell_type": "markdown",
   "id": "d323698c",
   "metadata": {},
   "source": [
    "# File Order"
   ]
  },
  {
   "cell_type": "code",
   "execution_count": 30,
   "id": "36fabe70",
   "metadata": {},
   "outputs": [],
   "source": [
    "def record_file_order(workflow_tasks, base_directory, depth):\n",
    "    if depth > 1:\n",
    "        return\n",
    "    f = open(f\"{base_directory}/file_order.txt\", \"w\")\n",
    "    for task in workflow_tasks:\n",
    "        basename = os.path.basename(task)\n",
    "        f.write(f\"{basename}\\n\")\n",
    "        if depth > 0:\n",
    "            continue\n",
    "        record_file_order(get_file_names(task), f'{base_directory}/{basename}', depth+1)\n",
    "        \n",
    "def get_file_order(base_directory):\n",
    "    try:\n",
    "        with open(f'{base_directory}/file_order.txt') as f:\n",
    "            return f.read().splitlines()\n",
    "    except:\n",
    "        return None"
   ]
  },
  {
   "cell_type": "markdown",
   "id": "4e9ed02b-476f-4d1f-952b-ffde63fcc3cf",
   "metadata": {},
   "source": [
    "# Test Folder"
   ]
  },
  {
   "cell_type": "code",
   "execution_count": 31,
   "id": "16b40e3a-976b-477a-bee9-82ddefbc0141",
   "metadata": {
    "tags": []
   },
   "outputs": [
    {
     "name": "stdout",
     "output_type": "stream",
     "text": [
      "Usable Data: 36/36\n",
      "CRAM_QC_MOSDEPTH_SAMTOOLS_MOSDEPTH\n",
      "Wastage 25%: [146.37, 94.35, 134.73, 119.23, 1010.12, 88.11]\n",
      "Wastage 50%: [69.59, 69.59, 71.17, 106.59, 788.11, 87.77]\n",
      "Wastage 75%: [72.08, 72.08, 72.25, 67.16, 67.16, 90.46]\n",
      "Retries 25%: [0.2222222222222222, 0.1111111111111111, 0.1111111111111111, 0.07407407407407407, 0.07407407407407407, 0.0]\n",
      "Retries 50%: [0.0, 0.0, 0.0, 0.05555555555555555, 0.05555555555555555, 0.0]\n",
      "Retries 75%: [0.0, 0.0, 0.0, 0.0, 0.0, 0.0]\n",
      "Runtime 25%: [117.18518518518519, 107.03703703703704, 108.5925925925926, 107.62962962962963, 107.62962962962963, 101.03703703703704]\n",
      "Runtime 50%: [103.33333333333333, 103.33333333333333, 103.33333333333333, 108.55555555555556, 108.55555555555556, 103.33333333333333]\n",
      "Runtime 75%: [106.22222222222223, 106.22222222222223, 106.22222222222223, 106.22222222222223, 106.22222222222223, 106.22222222222223]\n",
      "Usable Data: 864/1512\n",
      "training: 216, test: 648\r"
     ]
    },
    {
     "ename": "KeyboardInterrupt",
     "evalue": "",
     "output_type": "error",
     "traceback": [
      "\u001b[0;31m---------------------------------------------------------------------------\u001b[0m",
      "\u001b[0;31mKeyboardInterrupt\u001b[0m                         Traceback (most recent call last)",
      "Cell \u001b[0;32mIn[31], line 16\u001b[0m\n\u001b[1;32m     14\u001b[0m \u001b[38;5;66;03m# 0 = WASTE, 1 = RETRIES, 2 = RUNTIME\u001b[39;00m\n\u001b[1;32m     15\u001b[0m \u001b[38;5;28;01mfor\u001b[39;00m task \u001b[38;5;129;01min\u001b[39;00m workflow_tasks:\n\u001b[0;32m---> 16\u001b[0m     r \u001b[38;5;241m=\u001b[39m \u001b[43mbenchmark_task\u001b[49m\u001b[43m(\u001b[49m\u001b[43mtask\u001b[49m\u001b[43m,\u001b[49m\u001b[43m \u001b[49m\u001b[43mbase_directory\u001b[49m\u001b[43m)\u001b[49m\n\u001b[1;32m     17\u001b[0m     \u001b[38;5;28;01mif\u001b[39;00m r \u001b[38;5;241m==\u001b[39m \u001b[38;5;241m-\u001b[39m\u001b[38;5;241m1\u001b[39m:\n\u001b[1;32m     18\u001b[0m         \u001b[38;5;28;01mcontinue\u001b[39;00m\n",
      "Cell \u001b[0;32mIn[29], line 28\u001b[0m, in \u001b[0;36mbenchmark_task\u001b[0;34m(task_dir, base_directory)\u001b[0m\n\u001b[1;32m     26\u001b[0m test \u001b[38;5;241m=\u001b[39m file_names[i:] \u001b[38;5;66;03m# file_names[i:] - other mode\u001b[39;00m\n\u001b[1;32m     27\u001b[0m \u001b[38;5;28mprint\u001b[39m(\u001b[38;5;124mf\u001b[39m\u001b[38;5;124m\"\u001b[39m\u001b[38;5;124mtraining: \u001b[39m\u001b[38;5;132;01m{\u001b[39;00m\u001b[38;5;28mlen\u001b[39m(training)\u001b[38;5;132;01m}\u001b[39;00m\u001b[38;5;124m, test: \u001b[39m\u001b[38;5;132;01m{\u001b[39;00m\u001b[38;5;28mlen\u001b[39m(test)\u001b[38;5;132;01m}\u001b[39;00m\u001b[38;5;124m\"\u001b[39m,end\u001b[38;5;241m=\u001b[39m\u001b[38;5;124m\"\u001b[39m\u001b[38;5;130;01m\\r\u001b[39;00m\u001b[38;5;124m\"\u001b[39m, flush\u001b[38;5;241m=\u001b[39m\u001b[38;5;28;01mTrue\u001b[39;00m)\n\u001b[0;32m---> 28\u001b[0m avg_waste, avg_retries, avg_runtime \u001b[38;5;241m=\u001b[39m \u001b[43mrun_simulation\u001b[49m\u001b[43m(\u001b[49m\u001b[43mdirectory\u001b[49m\u001b[43m,\u001b[49m\u001b[43m \u001b[49m\u001b[43mtraining\u001b[49m\u001b[43m,\u001b[49m\u001b[43m \u001b[49m\u001b[43mtest\u001b[49m\u001b[43m,\u001b[49m\u001b[43m \u001b[49m\u001b[43mk\u001b[49m\u001b[43m \u001b[49m\u001b[38;5;241;43m=\u001b[39;49m\u001b[43m \u001b[49m\u001b[38;5;241;43m4\u001b[39;49m\u001b[43m)\u001b[49m\n\u001b[1;32m     29\u001b[0m x\u001b[38;5;241m.\u001b[39mappend(i)\n\u001b[1;32m     30\u001b[0m y_waste\u001b[38;5;241m.\u001b[39mappend(\u001b[38;5;28mlist\u001b[39m(\u001b[38;5;28mmap\u001b[39m(\u001b[38;5;28;01mlambda\u001b[39;00m w: \u001b[38;5;28mround\u001b[39m(w, \u001b[38;5;241m2\u001b[39m),avg_waste)))\n",
      "Cell \u001b[0;32mIn[28], line 40\u001b[0m, in \u001b[0;36mrun_simulation\u001b[0;34m(directory, training, test, monotonically_increasing, k, collection_interval)\u001b[0m\n\u001b[1;32m     36\u001b[0m \u001b[38;5;66;03m#simulations.append(simulation)\u001b[39;00m\n\u001b[1;32m     37\u001b[0m \n\u001b[1;32m     38\u001b[0m \u001b[38;5;66;03m# KSegments retry: partial\u001b[39;00m\n\u001b[1;32m     39\u001b[0m task_model \u001b[38;5;241m=\u001b[39m KSegmentsModel(k \u001b[38;5;241m=\u001b[39m k, monotonically_increasing \u001b[38;5;241m=\u001b[39m monotonically_increasing)\n\u001b[0;32m---> 40\u001b[0m simulation \u001b[38;5;241m=\u001b[39m \u001b[43mSimulation\u001b[49m\u001b[43m(\u001b[49m\u001b[43mtask_model\u001b[49m\u001b[43m,\u001b[49m\u001b[43m \u001b[49m\u001b[43mdirectory\u001b[49m\u001b[43m,\u001b[49m\u001b[43m \u001b[49m\u001b[43mretry_mode\u001b[49m\u001b[43m \u001b[49m\u001b[38;5;241;43m=\u001b[39;49m\u001b[43m \u001b[49m\u001b[38;5;124;43m'\u001b[39;49m\u001b[38;5;124;43mpartial\u001b[39;49m\u001b[38;5;124;43m'\u001b[39;49m\u001b[43m,\u001b[49m\u001b[43m \u001b[49m\u001b[43mprovided_file_names\u001b[49m\u001b[43m \u001b[49m\u001b[38;5;241;43m=\u001b[39;49m\u001b[43m \u001b[49m\u001b[43mtraining\u001b[49m\u001b[43m)\u001b[49m\n\u001b[1;32m     41\u001b[0m simulations\u001b[38;5;241m.\u001b[39mappend(simulation)\n\u001b[1;32m     43\u001b[0m \u001b[38;5;66;03m# WITT LR MEAN+- TASK MODEL \u001b[39;00m\n",
      "File \u001b[0;32m~/Library/Mobile Documents/com~apple~CloudDocs/TUBerlin/WS22/kTests/k-Segments/tsb_resource_allocation/simulation.py:33\u001b[0m, in \u001b[0;36mSimulation.__init__\u001b[0;34m(self, task_model, directory, retry_factor, retry_mode, max_mem, provided_file_names)\u001b[0m\n\u001b[1;32m     31\u001b[0m file_names \u001b[38;5;241m=\u001b[39m \u001b[38;5;28mself\u001b[39m\u001b[38;5;241m.\u001b[39mget_file_names() \u001b[38;5;28;01mif\u001b[39;00m \u001b[38;5;129;01mnot\u001b[39;00m provided_file_names \u001b[38;5;28;01melse\u001b[39;00m provided_file_names\n\u001b[1;32m     32\u001b[0m \u001b[38;5;28;01mfor\u001b[39;00m file_name \u001b[38;5;129;01min\u001b[39;00m file_names:\n\u001b[0;32m---> 33\u001b[0m     memory \u001b[38;5;241m=\u001b[39m \u001b[38;5;28;43mself\u001b[39;49m\u001b[38;5;241;43m.\u001b[39;49m\u001b[43mread_influx_csv\u001b[49m\u001b[43m(\u001b[49m\u001b[43mfile_name\u001b[49m\u001b[43m,\u001b[49m\u001b[43m \u001b[49m\u001b[38;5;124;43m\"\u001b[39;49m\u001b[38;5;124;43m_memory.csv\u001b[39;49m\u001b[38;5;124;43m\"\u001b[39;49m\u001b[43m)\u001b[49m\n\u001b[1;32m     34\u001b[0m     file_events \u001b[38;5;241m=\u001b[39m \u001b[38;5;28mself\u001b[39m\u001b[38;5;241m.\u001b[39mread_influx_csv(file_name, \u001b[38;5;124m\"\u001b[39m\u001b[38;5;124m_file_event.csv\u001b[39m\u001b[38;5;124m\"\u001b[39m)\n\u001b[1;32m     35\u001b[0m     metadata \u001b[38;5;241m=\u001b[39m \u001b[38;5;28mself\u001b[39m\u001b[38;5;241m.\u001b[39mread_influx_csv(file_name, \u001b[38;5;124m\"\u001b[39m\u001b[38;5;124m_metadata.csv\u001b[39m\u001b[38;5;124m\"\u001b[39m)\n",
      "File \u001b[0;32m~/Library/Mobile Documents/com~apple~CloudDocs/TUBerlin/WS22/kTests/k-Segments/tsb_resource_allocation/simulation.py:45\u001b[0m, in \u001b[0;36mSimulation.read_influx_csv\u001b[0;34m(self, file_name, ending)\u001b[0m\n\u001b[1;32m     44\u001b[0m \u001b[38;5;28;01mdef\u001b[39;00m \u001b[38;5;21mread_influx_csv\u001b[39m(\u001b[38;5;28mself\u001b[39m, file_name, ending):\n\u001b[0;32m---> 45\u001b[0m     csv_content \u001b[38;5;241m=\u001b[39m \u001b[43mpd\u001b[49m\u001b[38;5;241;43m.\u001b[39;49m\u001b[43mread_csv\u001b[49m\u001b[43m(\u001b[49m\u001b[38;5;124;43mf\u001b[39;49m\u001b[38;5;124;43m'\u001b[39;49m\u001b[38;5;132;43;01m{\u001b[39;49;00m\u001b[38;5;28;43mself\u001b[39;49m\u001b[38;5;241;43m.\u001b[39;49m\u001b[43mdirectory\u001b[49m\u001b[38;5;132;43;01m}\u001b[39;49;00m\u001b[38;5;124;43m/\u001b[39;49m\u001b[38;5;132;43;01m{\u001b[39;49;00m\u001b[43mfile_name\u001b[49m\u001b[38;5;241;43m+\u001b[39;49m\u001b[43mending\u001b[49m\u001b[38;5;132;43;01m}\u001b[39;49;00m\u001b[38;5;124;43m'\u001b[39;49m\u001b[43m,\u001b[49m\u001b[43m \u001b[49m\u001b[43mskiprows\u001b[49m\u001b[43m \u001b[49m\u001b[38;5;241;43m=\u001b[39;49m\u001b[43m \u001b[49m\u001b[38;5;241;43m3\u001b[39;49m\u001b[43m)\u001b[49m\n\u001b[1;32m     46\u001b[0m     \u001b[38;5;28;01mreturn\u001b[39;00m csv_content\n",
      "File \u001b[0;32m~/Library/Python/3.9/lib/python/site-packages/pandas/util/_decorators.py:211\u001b[0m, in \u001b[0;36mdeprecate_kwarg.<locals>._deprecate_kwarg.<locals>.wrapper\u001b[0;34m(*args, **kwargs)\u001b[0m\n\u001b[1;32m    209\u001b[0m     \u001b[38;5;28;01melse\u001b[39;00m:\n\u001b[1;32m    210\u001b[0m         kwargs[new_arg_name] \u001b[38;5;241m=\u001b[39m new_arg_value\n\u001b[0;32m--> 211\u001b[0m \u001b[38;5;28;01mreturn\u001b[39;00m \u001b[43mfunc\u001b[49m\u001b[43m(\u001b[49m\u001b[38;5;241;43m*\u001b[39;49m\u001b[43margs\u001b[49m\u001b[43m,\u001b[49m\u001b[43m \u001b[49m\u001b[38;5;241;43m*\u001b[39;49m\u001b[38;5;241;43m*\u001b[39;49m\u001b[43mkwargs\u001b[49m\u001b[43m)\u001b[49m\n",
      "File \u001b[0;32m~/Library/Python/3.9/lib/python/site-packages/pandas/util/_decorators.py:331\u001b[0m, in \u001b[0;36mdeprecate_nonkeyword_arguments.<locals>.decorate.<locals>.wrapper\u001b[0;34m(*args, **kwargs)\u001b[0m\n\u001b[1;32m    325\u001b[0m \u001b[38;5;28;01mif\u001b[39;00m \u001b[38;5;28mlen\u001b[39m(args) \u001b[38;5;241m>\u001b[39m num_allow_args:\n\u001b[1;32m    326\u001b[0m     warnings\u001b[38;5;241m.\u001b[39mwarn(\n\u001b[1;32m    327\u001b[0m         msg\u001b[38;5;241m.\u001b[39mformat(arguments\u001b[38;5;241m=\u001b[39m_format_argument_list(allow_args)),\n\u001b[1;32m    328\u001b[0m         \u001b[38;5;167;01mFutureWarning\u001b[39;00m,\n\u001b[1;32m    329\u001b[0m         stacklevel\u001b[38;5;241m=\u001b[39mfind_stack_level(),\n\u001b[1;32m    330\u001b[0m     )\n\u001b[0;32m--> 331\u001b[0m \u001b[38;5;28;01mreturn\u001b[39;00m \u001b[43mfunc\u001b[49m\u001b[43m(\u001b[49m\u001b[38;5;241;43m*\u001b[39;49m\u001b[43margs\u001b[49m\u001b[43m,\u001b[49m\u001b[43m \u001b[49m\u001b[38;5;241;43m*\u001b[39;49m\u001b[38;5;241;43m*\u001b[39;49m\u001b[43mkwargs\u001b[49m\u001b[43m)\u001b[49m\n",
      "File \u001b[0;32m~/Library/Python/3.9/lib/python/site-packages/pandas/io/parsers/readers.py:950\u001b[0m, in \u001b[0;36mread_csv\u001b[0;34m(filepath_or_buffer, sep, delimiter, header, names, index_col, usecols, squeeze, prefix, mangle_dupe_cols, dtype, engine, converters, true_values, false_values, skipinitialspace, skiprows, skipfooter, nrows, na_values, keep_default_na, na_filter, verbose, skip_blank_lines, parse_dates, infer_datetime_format, keep_date_col, date_parser, dayfirst, cache_dates, iterator, chunksize, compression, thousands, decimal, lineterminator, quotechar, quoting, doublequote, escapechar, comment, encoding, encoding_errors, dialect, error_bad_lines, warn_bad_lines, on_bad_lines, delim_whitespace, low_memory, memory_map, float_precision, storage_options)\u001b[0m\n\u001b[1;32m    935\u001b[0m kwds_defaults \u001b[38;5;241m=\u001b[39m _refine_defaults_read(\n\u001b[1;32m    936\u001b[0m     dialect,\n\u001b[1;32m    937\u001b[0m     delimiter,\n\u001b[0;32m   (...)\u001b[0m\n\u001b[1;32m    946\u001b[0m     defaults\u001b[38;5;241m=\u001b[39m{\u001b[38;5;124m\"\u001b[39m\u001b[38;5;124mdelimiter\u001b[39m\u001b[38;5;124m\"\u001b[39m: \u001b[38;5;124m\"\u001b[39m\u001b[38;5;124m,\u001b[39m\u001b[38;5;124m\"\u001b[39m},\n\u001b[1;32m    947\u001b[0m )\n\u001b[1;32m    948\u001b[0m kwds\u001b[38;5;241m.\u001b[39mupdate(kwds_defaults)\n\u001b[0;32m--> 950\u001b[0m \u001b[38;5;28;01mreturn\u001b[39;00m \u001b[43m_read\u001b[49m\u001b[43m(\u001b[49m\u001b[43mfilepath_or_buffer\u001b[49m\u001b[43m,\u001b[49m\u001b[43m \u001b[49m\u001b[43mkwds\u001b[49m\u001b[43m)\u001b[49m\n",
      "File \u001b[0;32m~/Library/Python/3.9/lib/python/site-packages/pandas/io/parsers/readers.py:611\u001b[0m, in \u001b[0;36m_read\u001b[0;34m(filepath_or_buffer, kwds)\u001b[0m\n\u001b[1;32m    608\u001b[0m     \u001b[38;5;28;01mreturn\u001b[39;00m parser\n\u001b[1;32m    610\u001b[0m \u001b[38;5;28;01mwith\u001b[39;00m parser:\n\u001b[0;32m--> 611\u001b[0m     \u001b[38;5;28;01mreturn\u001b[39;00m \u001b[43mparser\u001b[49m\u001b[38;5;241;43m.\u001b[39;49m\u001b[43mread\u001b[49m\u001b[43m(\u001b[49m\u001b[43mnrows\u001b[49m\u001b[43m)\u001b[49m\n",
      "File \u001b[0;32m~/Library/Python/3.9/lib/python/site-packages/pandas/io/parsers/readers.py:1778\u001b[0m, in \u001b[0;36mTextFileReader.read\u001b[0;34m(self, nrows)\u001b[0m\n\u001b[1;32m   1771\u001b[0m nrows \u001b[38;5;241m=\u001b[39m validate_integer(\u001b[38;5;124m\"\u001b[39m\u001b[38;5;124mnrows\u001b[39m\u001b[38;5;124m\"\u001b[39m, nrows)\n\u001b[1;32m   1772\u001b[0m \u001b[38;5;28;01mtry\u001b[39;00m:\n\u001b[1;32m   1773\u001b[0m     \u001b[38;5;66;03m# error: \"ParserBase\" has no attribute \"read\"\u001b[39;00m\n\u001b[1;32m   1774\u001b[0m     (\n\u001b[1;32m   1775\u001b[0m         index,\n\u001b[1;32m   1776\u001b[0m         columns,\n\u001b[1;32m   1777\u001b[0m         col_dict,\n\u001b[0;32m-> 1778\u001b[0m     ) \u001b[38;5;241m=\u001b[39m \u001b[38;5;28;43mself\u001b[39;49m\u001b[38;5;241;43m.\u001b[39;49m\u001b[43m_engine\u001b[49m\u001b[38;5;241;43m.\u001b[39;49m\u001b[43mread\u001b[49m\u001b[43m(\u001b[49m\u001b[43m  \u001b[49m\u001b[38;5;66;43;03m# type: ignore[attr-defined]\u001b[39;49;00m\n\u001b[1;32m   1779\u001b[0m \u001b[43m        \u001b[49m\u001b[43mnrows\u001b[49m\n\u001b[1;32m   1780\u001b[0m \u001b[43m    \u001b[49m\u001b[43m)\u001b[49m\n\u001b[1;32m   1781\u001b[0m \u001b[38;5;28;01mexcept\u001b[39;00m \u001b[38;5;167;01mException\u001b[39;00m:\n\u001b[1;32m   1782\u001b[0m     \u001b[38;5;28mself\u001b[39m\u001b[38;5;241m.\u001b[39mclose()\n",
      "File \u001b[0;32m~/Library/Python/3.9/lib/python/site-packages/pandas/io/parsers/c_parser_wrapper.py:230\u001b[0m, in \u001b[0;36mCParserWrapper.read\u001b[0;34m(self, nrows)\u001b[0m\n\u001b[1;32m    228\u001b[0m \u001b[38;5;28;01mtry\u001b[39;00m:\n\u001b[1;32m    229\u001b[0m     \u001b[38;5;28;01mif\u001b[39;00m \u001b[38;5;28mself\u001b[39m\u001b[38;5;241m.\u001b[39mlow_memory:\n\u001b[0;32m--> 230\u001b[0m         chunks \u001b[38;5;241m=\u001b[39m \u001b[38;5;28;43mself\u001b[39;49m\u001b[38;5;241;43m.\u001b[39;49m\u001b[43m_reader\u001b[49m\u001b[38;5;241;43m.\u001b[39;49m\u001b[43mread_low_memory\u001b[49m\u001b[43m(\u001b[49m\u001b[43mnrows\u001b[49m\u001b[43m)\u001b[49m\n\u001b[1;32m    231\u001b[0m         \u001b[38;5;66;03m# destructive to chunks\u001b[39;00m\n\u001b[1;32m    232\u001b[0m         data \u001b[38;5;241m=\u001b[39m _concatenate_chunks(chunks)\n",
      "File \u001b[0;32m~/Library/Python/3.9/lib/python/site-packages/pandas/_libs/parsers.pyx:808\u001b[0m, in \u001b[0;36mpandas._libs.parsers.TextReader.read_low_memory\u001b[0;34m()\u001b[0m\n",
      "File \u001b[0;32m~/Library/Python/3.9/lib/python/site-packages/pandas/_libs/parsers.pyx:890\u001b[0m, in \u001b[0;36mpandas._libs.parsers.TextReader._read_rows\u001b[0;34m()\u001b[0m\n",
      "File \u001b[0;32m~/Library/Python/3.9/lib/python/site-packages/pandas/_libs/parsers.pyx:1037\u001b[0m, in \u001b[0;36mpandas._libs.parsers.TextReader._convert_column_data\u001b[0;34m()\u001b[0m\n",
      "File \u001b[0;32m~/Library/Python/3.9/lib/python/site-packages/pandas/_libs/parsers.pyx:1083\u001b[0m, in \u001b[0;36mpandas._libs.parsers.TextReader._convert_tokens\u001b[0;34m()\u001b[0m\n",
      "File \u001b[0;32m~/Library/Python/3.9/lib/python/site-packages/pandas/_libs/parsers.pyx:1181\u001b[0m, in \u001b[0;36mpandas._libs.parsers.TextReader._convert_with_dtype\u001b[0;34m()\u001b[0m\n",
      "File \u001b[0;32m~/Library/Python/3.9/lib/python/site-packages/pandas/core/dtypes/common.py:733\u001b[0m, in \u001b[0;36mis_integer_dtype\u001b[0;34m(arr_or_dtype)\u001b[0m\n\u001b[1;32m    684\u001b[0m \u001b[38;5;28;01mdef\u001b[39;00m \u001b[38;5;21mis_integer_dtype\u001b[39m(arr_or_dtype) \u001b[38;5;241m-\u001b[39m\u001b[38;5;241m>\u001b[39m \u001b[38;5;28mbool\u001b[39m:\n\u001b[1;32m    685\u001b[0m \u001b[38;5;250m    \u001b[39m\u001b[38;5;124;03m\"\"\"\u001b[39;00m\n\u001b[1;32m    686\u001b[0m \u001b[38;5;124;03m    Check whether the provided array or dtype is of an integer dtype.\u001b[39;00m\n\u001b[1;32m    687\u001b[0m \n\u001b[0;32m   (...)\u001b[0m\n\u001b[1;32m    731\u001b[0m \u001b[38;5;124;03m    False\u001b[39;00m\n\u001b[1;32m    732\u001b[0m \u001b[38;5;124;03m    \"\"\"\u001b[39;00m\n\u001b[0;32m--> 733\u001b[0m     \u001b[38;5;28;01mreturn\u001b[39;00m \u001b[43m_is_dtype_type\u001b[49m\u001b[43m(\u001b[49m\u001b[43marr_or_dtype\u001b[49m\u001b[43m,\u001b[49m\u001b[43m \u001b[49m\u001b[43mclasses_and_not_datetimelike\u001b[49m\u001b[43m(\u001b[49m\u001b[43mnp\u001b[49m\u001b[38;5;241;43m.\u001b[39;49m\u001b[43minteger\u001b[49m\u001b[43m)\u001b[49m\u001b[43m)\u001b[49m\n",
      "\u001b[0;31mKeyboardInterrupt\u001b[0m: "
     ]
    }
   ],
   "source": [
    "base_directory = f'{BASE_DIR}/sarek'\n",
    "workflow_tasks = []\n",
    "file_order = get_file_order(base_directory)\n",
    "if file_order != None:\n",
    "    workflow_tasks = file_order\n",
    "else:\n",
    "    workflow_tasks = [os.path.join(base_directory, item) for item in os.listdir(base_directory) if os.path.isdir(os.path.join(base_directory, item))]\n",
    "    workflow_tasks = [task for task in workflow_tasks if len(os.listdir(task)) > 40]\n",
    "    workflow_tasks = list(map(os.path.basename, workflow_tasks))\n",
    "\n",
    "categories = [\"Wastage\", \"Retries\", \"Runtime\"]\n",
    "percentages = [\"25%\", \"50%\", \"75%\"]\n",
    "\n",
    "# 0 = WASTE, 1 = RETRIES, 2 = RUNTIME\n",
    "for task in workflow_tasks:\n",
    "    r = benchmark_task(task, base_directory)\n",
    "    if r == -1:\n",
    "        continue\n",
    "    task_name = os.path.basename(task)\n",
    "    m = ', '.join(map(str, r[0][2]))\n",
    "    print(f'{task_name}')\n",
    "    for i, category in enumerate(categories): \n",
    "        for j, percentage in enumerate(percentages): \n",
    "            print(f'{category} {percentage}: {r[i][j]}')"
   ]
  }
 ],
 "metadata": {
  "kernelspec": {
   "display_name": "Python 3 (ipykernel)",
   "language": "python",
   "name": "python3"
  },
  "language_info": {
   "codemirror_mode": {
    "name": "ipython",
    "version": 3
   },
   "file_extension": ".py",
   "mimetype": "text/x-python",
   "name": "python",
   "nbconvert_exporter": "python",
   "pygments_lexer": "ipython3",
   "version": "3.9.6"
  }
 },
 "nbformat": 4,
 "nbformat_minor": 5
}
